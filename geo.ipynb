{
 "cells": [
  {
   "cell_type": "code",
   "execution_count": 1,
   "metadata": {},
   "outputs": [],
   "source": [
    "import osmnx as ox\n",
    "import networkx as nx\n",
    "import matplotlib.pyplot as plt\n",
    "import folium\n",
    "from keplergl import KeplerGl"
   ]
  },
  {
   "cell_type": "code",
   "execution_count": 2,
   "metadata": {},
   "outputs": [],
   "source": [
    "place_name = \"Madurai, Tamilnadu, India.\"\n",
    "\n",
    "graph = ox.graph_from_place(place_name)\n",
    "\n",
    "ox.plot_graph_folium(graph)"
   ]
  },
  {
   "cell_type": "code",
   "execution_count": null,
   "metadata": {},
   "outputs": [
    {
     "data": {
      "text/html": [
       "<div>\n",
       "<style scoped>\n",
       "    .dataframe tbody tr th:only-of-type {\n",
       "        vertical-align: middle;\n",
       "    }\n",
       "\n",
       "    .dataframe tbody tr th {\n",
       "        vertical-align: top;\n",
       "    }\n",
       "\n",
       "    .dataframe thead th {\n",
       "        text-align: right;\n",
       "    }\n",
       "</style>\n",
       "<table border=\"1\" class=\"dataframe\">\n",
       "  <thead>\n",
       "    <tr style=\"text-align: right;\">\n",
       "      <th></th>\n",
       "      <th>geometry</th>\n",
       "      <th>bbox_north</th>\n",
       "      <th>bbox_south</th>\n",
       "      <th>bbox_east</th>\n",
       "      <th>bbox_west</th>\n",
       "      <th>place_id</th>\n",
       "      <th>osm_type</th>\n",
       "      <th>osm_id</th>\n",
       "      <th>lat</th>\n",
       "      <th>lon</th>\n",
       "      <th>display_name</th>\n",
       "      <th>class</th>\n",
       "      <th>type</th>\n",
       "      <th>importance</th>\n",
       "    </tr>\n",
       "  </thead>\n",
       "  <tbody>\n",
       "    <tr>\n",
       "      <th>0</th>\n",
       "      <td>MULTIPOLYGON (((80.27890 13.05808, 80.28021 13...</td>\n",
       "      <td>13.061714</td>\n",
       "      <td>13.057603</td>\n",
       "      <td>80.282623</td>\n",
       "      <td>80.278902</td>\n",
       "      <td>309272369</td>\n",
       "      <td>relation</td>\n",
       "      <td>14377740</td>\n",
       "      <td>13.059021</td>\n",
       "      <td>80.281383</td>\n",
       "      <td>Presidency College, Chennai, Bharathi Salai, C...</td>\n",
       "      <td>amenity</td>\n",
       "      <td>college</td>\n",
       "      <td>0.640199</td>\n",
       "    </tr>\n",
       "  </tbody>\n",
       "</table>\n",
       "</div>"
      ],
      "text/plain": [
       "                                            geometry  bbox_north  bbox_south  \\\n",
       "0  MULTIPOLYGON (((80.27890 13.05808, 80.28021 13...   13.061714   13.057603   \n",
       "\n",
       "   bbox_east  bbox_west   place_id  osm_type    osm_id        lat        lon  \\\n",
       "0  80.282623  80.278902  309272369  relation  14377740  13.059021  80.281383   \n",
       "\n",
       "                                        display_name    class     type  \\\n",
       "0  Presidency College, Chennai, Bharathi Salai, C...  amenity  college   \n",
       "\n",
       "   importance  \n",
       "0    0.640199  "
      ]
     },
     "execution_count": 6,
     "metadata": {},
     "output_type": "execute_result"
    }
   ],
   "source": [
    "area = ox.geocode_to_gdf(place_name)\n",
    "area.head()"
   ]
  }
 ],
 "metadata": {
  "kernelspec": {
   "display_name": "Personal",
   "language": "python",
   "name": "python3"
  },
  "language_info": {
   "codemirror_mode": {
    "name": "ipython",
    "version": 3
   },
   "file_extension": ".py",
   "mimetype": "text/x-python",
   "name": "python",
   "nbconvert_exporter": "python",
   "pygments_lexer": "ipython3",
   "version": "3.10.9"
  },
  "orig_nbformat": 4
 },
 "nbformat": 4,
 "nbformat_minor": 2
}
